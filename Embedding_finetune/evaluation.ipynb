{
 "cells": [
  {
   "cell_type": "code",
   "execution_count": 4,
   "id": "2a68349c",
   "metadata": {},
   "outputs": [],
   "source": [
    "import json\n",
    "from torch.utils.data import DataLoader\n",
    "from sentence_transformers import InputExample\n",
    "from llama_index import ServiceContext, VectorStoreIndex\n",
    "from llama_index.schema import TextNode\n",
    "from langchain.chat_models import ChatAnthropic\n",
    "import os\n",
    "from tqdm import tqdm\n",
    "import pandas as pd\n",
    "import torch\n",
    "from transformers import AutoTokenizer\n",
    "from langchain.vectorstores import FAISS\n",
    "from langchain.schema.document import Document\n",
    "from sentence_transformers.evaluation import InformationRetrievalEvaluator\n",
    "from sentence_transformers import SentenceTransformer"
   ]
  },
  {
   "cell_type": "code",
   "execution_count": 7,
   "id": "47f16afe",
   "metadata": {},
   "outputs": [],
   "source": [
    "with open(\"/Users/lichenghu/Desktop/embedding_finetune/train_dataset.json\") as jsonfile:\n",
    "    train_dataset = json.load(jsonfile)"
   ]
  },
  {
   "cell_type": "code",
   "execution_count": 8,
   "id": "7ec97beb",
   "metadata": {},
   "outputs": [],
   "source": [
    "with open(\"/Users/lichenghu/Desktop/embedding_finetune/val_dataset.json\") as jsonfile:\n",
    "    test_dataset = json.load(jsonfile)"
   ]
  },
  {
   "cell_type": "code",
   "execution_count": 9,
   "id": "f4556e5f",
   "metadata": {},
   "outputs": [],
   "source": [
    "os.environ[\"ANTHROPIC_API_KEY\"]=\"\""
   ]
  },
  {
   "cell_type": "code",
   "execution_count": 10,
   "id": "756f5d85",
   "metadata": {},
   "outputs": [],
   "source": [
    "chat = ChatAnthropic(model='claude-2')"
   ]
  },
  {
   "cell_type": "code",
   "execution_count": 59,
   "id": "fc10c111",
   "metadata": {},
   "outputs": [],
   "source": [
    "def evaluate(dataset,embed_model,top_k=5,verbose=False):\n",
    "    corpus = dataset['docs']\n",
    "    queries = dataset['queries']\n",
    "    relevant_docs = dataset['relevant_docs']\n",
    "    doc=[]\n",
    "    for id_, text in corpus.items():\n",
    "        doc.append(Document(page_content=text, metadata={'id': id_}))\n",
    "    embedding = HuggingFaceEmbeddings(model_name=embed_model)\n",
    "    db = FAISS.from_documents(doc, embedding)\n",
    "    retriever = db.as_retriever(search_type=\"similarity\",search_kwargs={'k': top_k})\n",
    "    eval_results = []\n",
    "    for query_id, query in tqdm(queries.items()):\n",
    "        retrieved_doc = retriever.get_relevant_documents(query)\n",
    "        retrieved_ids = [doc.metadata['id'] for doc in retrieved_doc]\n",
    "        expected_id = relevant_docs[query_id][0]\n",
    "        is_hit = expected_id in retrieved_ids\n",
    "        eval_result = {\n",
    "            'is_hit': is_hit,\n",
    "            'retrieved': retrieved_ids,\n",
    "            'expected': expected_id,\n",
    "            'query': query_id,\n",
    "        }\n",
    "        eval_results.append(eval_result)\n",
    "    return eval_results\n"
   ]
  },
  {
   "cell_type": "code",
   "execution_count": 7,
   "id": "829d93db",
   "metadata": {},
   "outputs": [],
   "source": [
    "# def evaluate(\n",
    "#     dataset,\n",
    "#     embed_model,\n",
    "#     top_k=5,\n",
    "#     verbose=False,\n",
    "# ):\n",
    "#     corpus = dataset['docs']\n",
    "#     queries = dataset['queries']\n",
    "#     relevant_docs = dataset['relevant_docs']\n",
    "\n",
    "#     service_context = ServiceContext.from_defaults(embed_model=embed_model,llm=chat)\n",
    "#     nodes = [TextNode(id_=id_, text=text) for id_, text in corpus.items()] \n",
    "#     index = VectorStoreIndex(\n",
    "#         nodes, \n",
    "#         service_context=service_context, \n",
    "#         show_progress=True\n",
    "#     )\n",
    "#     retriever = index.as_retriever(similarity_top_k=top_k)\n",
    "\n",
    "#     eval_results = []\n",
    "#     for query_id, query in tqdm(queries.items()):\n",
    "#         retrieved_nodes = retriever.retrieve(query)\n",
    "#         retrieved_ids = [node.node.node_id for node in retrieved_nodes]\n",
    "#         expected_id = relevant_docs[query_id][0]\n",
    "#         is_hit = expected_id in retrieved_ids  # assume 1 relevant doc\n",
    "        \n",
    "#         eval_result = {\n",
    "#             'is_hit': is_hit,\n",
    "#             'retrieved': retrieved_ids,\n",
    "#             'expected': expected_id,\n",
    "#             'query': query_id,\n",
    "#         }\n",
    "#         eval_results.append(eval_result)\n",
    "#     return eval_results"
   ]
  },
  {
   "cell_type": "code",
   "execution_count": 9,
   "id": "e06da01a",
   "metadata": {},
   "outputs": [],
   "source": [
    "def evaluate_st(\n",
    "    dataset,\n",
    "    model_id,\n",
    "    name,\n",
    "):\n",
    "    corpus = dataset['docs']\n",
    "    queries = dataset['queries']\n",
    "    relevant_docs = dataset['relevant_docs']\n",
    "\n",
    "    evaluator = InformationRetrievalEvaluator(queries, corpus, relevant_docs, name=name)\n",
    "    model = SentenceTransformer(model_id)\n",
    "    return evaluator(model, output_path='/Users/lichenghu/Desktop/embedding_finetune/')"
   ]
  },
  {
   "cell_type": "code",
   "execution_count": 60,
   "id": "4737af84",
   "metadata": {},
   "outputs": [
    {
     "name": "stdout",
     "output_type": "stream",
     "text": [
      "Using Maximum Sequence Length:  512\n"
     ]
    },
    {
     "name": "stderr",
     "output_type": "stream",
     "text": [
      "100%|███████████████████████████████████████| 3084/3084 [04:07<00:00, 12.48it/s]\n"
     ]
    }
   ],
   "source": [
    "instructor = \"hkunlp/instructor-large\"\n",
    "instructor_val_results = evaluate(test_dataset, instructor)"
   ]
  },
  {
   "cell_type": "code",
   "execution_count": 62,
   "id": "d0501b07",
   "metadata": {},
   "outputs": [],
   "source": [
    "df_instructor = pd.DataFrame(instructor_val_results)"
   ]
  },
  {
   "cell_type": "code",
   "execution_count": 63,
   "id": "88deae8e",
   "metadata": {},
   "outputs": [
    {
     "data": {
      "text/plain": [
       "0.8281452658884566"
      ]
     },
     "execution_count": 63,
     "metadata": {},
     "output_type": "execute_result"
    }
   ],
   "source": [
    "hit_rate_instructor = df_instructor['is_hit'].mean()\n",
    "hit_rate_instructor"
   ]
  },
  {
   "cell_type": "code",
   "execution_count": 12,
   "id": "8c72063c",
   "metadata": {},
   "outputs": [
    {
     "data": {
      "text/plain": [
       "0.8287937743190662"
      ]
     },
     "execution_count": 12,
     "metadata": {},
     "output_type": "execute_result"
    }
   ],
   "source": [
    "hit_rate_instructor = df_instructor['is_hit'].mean()\n",
    "hit_rate_instructor"
   ]
  },
  {
   "cell_type": "code",
   "execution_count": 20,
   "id": "5af33af0",
   "metadata": {},
   "outputs": [
    {
     "name": "stderr",
     "output_type": "stream",
     "text": [
      "/Users/lichenghu/Desktop/anaconda3/envs/lmtutor/lib/python3.9/site-packages/huggingface_hub/file_download.py:659: FutureWarning: 'cached_download' is the legacy way to download files from the HF hub, please consider upgrading to 'hf_hub_download'\n",
      "  warnings.warn(\n"
     ]
    },
    {
     "name": "stdout",
     "output_type": "stream",
     "text": [
      "Using Maximum Sequence Length:  512\n"
     ]
    },
    {
     "data": {
      "text/plain": [
       "0.7154374461035795"
      ]
     },
     "execution_count": 20,
     "metadata": {},
     "output_type": "execute_result"
    }
   ],
   "source": [
    "evaluate_st(test_dataset, \"hkunlp/instructor-large\", name='instructor')"
   ]
  },
  {
   "cell_type": "code",
   "execution_count": 73,
   "id": "cf56bd97",
   "metadata": {},
   "outputs": [
    {
     "name": "stdout",
     "output_type": "stream",
     "text": [
      "Using Maximum Sequence Length:  512\n"
     ]
    },
    {
     "name": "stderr",
     "output_type": "stream",
     "text": [
      "100%|███████████████████████████████████████| 3084/3084 [03:56<00:00, 13.02it/s]\n"
     ]
    }
   ],
   "source": [
    "finetuned = \"exp-finetune\"\n",
    "val_results_finetuned = evaluate(test_dataset, finetuned)"
   ]
  },
  {
   "cell_type": "code",
   "execution_count": 22,
   "id": "c7107943",
   "metadata": {},
   "outputs": [],
   "source": [
    "device = torch.device('cpu')"
   ]
  },
  {
   "cell_type": "code",
   "execution_count": 74,
   "id": "71ec1f89",
   "metadata": {},
   "outputs": [],
   "source": [
    "df_finetuned = pd.DataFrame(val_results_finetuned)"
   ]
  },
  {
   "cell_type": "code",
   "execution_count": 75,
   "id": "76be3933",
   "metadata": {},
   "outputs": [
    {
     "data": {
      "text/plain": [
       "0.8913748378728924"
      ]
     },
     "execution_count": 75,
     "metadata": {},
     "output_type": "execute_result"
    }
   ],
   "source": [
    "hit_rate_finetuned = df_finetuned['is_hit'].mean()\n",
    "hit_rate_finetuned"
   ]
  },
  {
   "cell_type": "code",
   "execution_count": 21,
   "id": "d7ea08c4",
   "metadata": {},
   "outputs": [
    {
     "name": "stdout",
     "output_type": "stream",
     "text": [
      "Using Maximum Sequence Length:  512\n"
     ]
    },
    {
     "data": {
      "text/plain": [
       "0.7875588064116248"
      ]
     },
     "execution_count": 21,
     "metadata": {},
     "output_type": "execute_result"
    }
   ],
   "source": [
    "evaluate_st(test_dataset, \"local:exp_finetune\", name='finetuned')"
   ]
  },
  {
   "cell_type": "code",
   "execution_count": 22,
   "id": "9b4e27e4",
   "metadata": {},
   "outputs": [],
   "source": [
    "df_instructor = pd.read_csv(\n",
    "    \"Information-Retrieval_evaluation_instructor_results.csv\"\n",
    ")\n",
    "df_st_finetuned = pd.read_csv(\n",
    "    \"Information-Retrieval_evaluation_finetuned_results.csv\"\n",
    ")"
   ]
  },
  {
   "cell_type": "code",
   "execution_count": 23,
   "id": "3d2cc637",
   "metadata": {},
   "outputs": [
    {
     "data": {
      "text/html": [
       "<div>\n",
       "<style scoped>\n",
       "    .dataframe tbody tr th:only-of-type {\n",
       "        vertical-align: middle;\n",
       "    }\n",
       "\n",
       "    .dataframe tbody tr th {\n",
       "        vertical-align: top;\n",
       "    }\n",
       "\n",
       "    .dataframe thead th {\n",
       "        text-align: right;\n",
       "    }\n",
       "</style>\n",
       "<table border=\"1\" class=\"dataframe\">\n",
       "  <thead>\n",
       "    <tr style=\"text-align: right;\">\n",
       "      <th></th>\n",
       "      <th>epoch</th>\n",
       "      <th>steps</th>\n",
       "      <th>cos_sim-Accuracy@1</th>\n",
       "      <th>cos_sim-Accuracy@3</th>\n",
       "      <th>cos_sim-Accuracy@5</th>\n",
       "      <th>cos_sim-Accuracy@10</th>\n",
       "      <th>cos_sim-Precision@1</th>\n",
       "      <th>cos_sim-Recall@1</th>\n",
       "      <th>cos_sim-Precision@3</th>\n",
       "      <th>cos_sim-Recall@3</th>\n",
       "      <th>...</th>\n",
       "      <th>dot_score-Recall@1</th>\n",
       "      <th>dot_score-Precision@3</th>\n",
       "      <th>dot_score-Recall@3</th>\n",
       "      <th>dot_score-Precision@5</th>\n",
       "      <th>dot_score-Recall@5</th>\n",
       "      <th>dot_score-Precision@10</th>\n",
       "      <th>dot_score-Recall@10</th>\n",
       "      <th>dot_score-MRR@10</th>\n",
       "      <th>dot_score-NDCG@10</th>\n",
       "      <th>dot_score-MAP@100</th>\n",
       "    </tr>\n",
       "    <tr>\n",
       "      <th>model</th>\n",
       "      <th></th>\n",
       "      <th></th>\n",
       "      <th></th>\n",
       "      <th></th>\n",
       "      <th></th>\n",
       "      <th></th>\n",
       "      <th></th>\n",
       "      <th></th>\n",
       "      <th></th>\n",
       "      <th></th>\n",
       "      <th></th>\n",
       "      <th></th>\n",
       "      <th></th>\n",
       "      <th></th>\n",
       "      <th></th>\n",
       "      <th></th>\n",
       "      <th></th>\n",
       "      <th></th>\n",
       "      <th></th>\n",
       "      <th></th>\n",
       "      <th></th>\n",
       "    </tr>\n",
       "  </thead>\n",
       "  <tbody>\n",
       "    <tr>\n",
       "      <th>instructor</th>\n",
       "      <td>-1</td>\n",
       "      <td>-1</td>\n",
       "      <td>0.624514</td>\n",
       "      <td>0.778534</td>\n",
       "      <td>0.828145</td>\n",
       "      <td>0.873217</td>\n",
       "      <td>0.624514</td>\n",
       "      <td>0.624514</td>\n",
       "      <td>0.259511</td>\n",
       "      <td>0.778534</td>\n",
       "      <td>...</td>\n",
       "      <td>0.624514</td>\n",
       "      <td>0.259511</td>\n",
       "      <td>0.778534</td>\n",
       "      <td>0.165629</td>\n",
       "      <td>0.828145</td>\n",
       "      <td>0.087322</td>\n",
       "      <td>0.873217</td>\n",
       "      <td>0.711360</td>\n",
       "      <td>0.750888</td>\n",
       "      <td>0.715437</td>\n",
       "    </tr>\n",
       "    <tr>\n",
       "      <th>fine_tuned</th>\n",
       "      <td>-1</td>\n",
       "      <td>-1</td>\n",
       "      <td>0.705577</td>\n",
       "      <td>0.851167</td>\n",
       "      <td>0.891375</td>\n",
       "      <td>0.925422</td>\n",
       "      <td>0.705577</td>\n",
       "      <td>0.705577</td>\n",
       "      <td>0.283722</td>\n",
       "      <td>0.851167</td>\n",
       "      <td>...</td>\n",
       "      <td>0.705577</td>\n",
       "      <td>0.283722</td>\n",
       "      <td>0.851167</td>\n",
       "      <td>0.178275</td>\n",
       "      <td>0.891375</td>\n",
       "      <td>0.092542</td>\n",
       "      <td>0.925422</td>\n",
       "      <td>0.784921</td>\n",
       "      <td>0.819430</td>\n",
       "      <td>0.787559</td>\n",
       "    </tr>\n",
       "  </tbody>\n",
       "</table>\n",
       "<p>2 rows × 32 columns</p>\n",
       "</div>"
      ],
      "text/plain": [
       "            epoch  steps  cos_sim-Accuracy@1  cos_sim-Accuracy@3  \\\n",
       "model                                                              \n",
       "instructor     -1     -1            0.624514            0.778534   \n",
       "fine_tuned     -1     -1            0.705577            0.851167   \n",
       "\n",
       "            cos_sim-Accuracy@5  cos_sim-Accuracy@10  cos_sim-Precision@1  \\\n",
       "model                                                                      \n",
       "instructor            0.828145             0.873217             0.624514   \n",
       "fine_tuned            0.891375             0.925422             0.705577   \n",
       "\n",
       "            cos_sim-Recall@1  cos_sim-Precision@3  cos_sim-Recall@3  ...  \\\n",
       "model                                                                ...   \n",
       "instructor          0.624514             0.259511          0.778534  ...   \n",
       "fine_tuned          0.705577             0.283722          0.851167  ...   \n",
       "\n",
       "            dot_score-Recall@1  dot_score-Precision@3  dot_score-Recall@3  \\\n",
       "model                                                                       \n",
       "instructor            0.624514               0.259511            0.778534   \n",
       "fine_tuned            0.705577               0.283722            0.851167   \n",
       "\n",
       "            dot_score-Precision@5  dot_score-Recall@5  dot_score-Precision@10  \\\n",
       "model                                                                           \n",
       "instructor               0.165629            0.828145                0.087322   \n",
       "fine_tuned               0.178275            0.891375                0.092542   \n",
       "\n",
       "            dot_score-Recall@10  dot_score-MRR@10  dot_score-NDCG@10  \\\n",
       "model                                                                  \n",
       "instructor             0.873217          0.711360           0.750888   \n",
       "fine_tuned             0.925422          0.784921           0.819430   \n",
       "\n",
       "            dot_score-MAP@100  \n",
       "model                          \n",
       "instructor           0.715437  \n",
       "fine_tuned           0.787559  \n",
       "\n",
       "[2 rows x 32 columns]"
      ]
     },
     "execution_count": 23,
     "metadata": {},
     "output_type": "execute_result"
    }
   ],
   "source": [
    "df_instructor[\"model\"] = \"instructor\"\n",
    "df_st_finetuned[\"model\"] = \"fine_tuned\"\n",
    "df_st_all = pd.concat([df_instructor, df_st_finetuned])\n",
    "df_st_all = df_st_all.set_index(\"model\")\n",
    "df_st_all"
   ]
  },
  {
   "cell_type": "code",
   "execution_count": 76,
   "id": "b3bf475d",
   "metadata": {},
   "outputs": [],
   "source": [
    "df_instructor[\"model\"] = \"instructor\"\n",
    "df_finetuned[\"model\"] = \"fine_tuned\""
   ]
  },
  {
   "cell_type": "code",
   "execution_count": 78,
   "id": "98524037",
   "metadata": {},
   "outputs": [
    {
     "data": {
      "text/html": [
       "<div>\n",
       "<style scoped>\n",
       "    .dataframe tbody tr th:only-of-type {\n",
       "        vertical-align: middle;\n",
       "    }\n",
       "\n",
       "    .dataframe tbody tr th {\n",
       "        vertical-align: top;\n",
       "    }\n",
       "\n",
       "    .dataframe thead th {\n",
       "        text-align: right;\n",
       "    }\n",
       "</style>\n",
       "<table border=\"1\" class=\"dataframe\">\n",
       "  <thead>\n",
       "    <tr style=\"text-align: right;\">\n",
       "      <th></th>\n",
       "      <th>is_hit</th>\n",
       "    </tr>\n",
       "    <tr>\n",
       "      <th>model</th>\n",
       "      <th></th>\n",
       "    </tr>\n",
       "  </thead>\n",
       "  <tbody>\n",
       "    <tr>\n",
       "      <th>fine_tuned</th>\n",
       "      <td>0.891375</td>\n",
       "    </tr>\n",
       "    <tr>\n",
       "      <th>instructor</th>\n",
       "      <td>0.828145</td>\n",
       "    </tr>\n",
       "  </tbody>\n",
       "</table>\n",
       "</div>"
      ],
      "text/plain": [
       "              is_hit\n",
       "model               \n",
       "fine_tuned  0.891375\n",
       "instructor  0.828145"
      ]
     },
     "execution_count": 78,
     "metadata": {},
     "output_type": "execute_result"
    }
   ],
   "source": [
    "df_all = pd.concat([df_instructor, df_finetuned])\n",
    "df_all.groupby(\"model\").mean(\"is_hit\")"
   ]
  },
  {
   "cell_type": "code",
   "execution_count": null,
   "id": "0aea2c1c",
   "metadata": {},
   "outputs": [],
   "source": []
  }
 ],
 "metadata": {
  "kernelspec": {
   "display_name": "Python 3 (ipykernel)",
   "language": "python",
   "name": "python3"
  },
  "language_info": {
   "codemirror_mode": {
    "name": "ipython",
    "version": 3
   },
   "file_extension": ".py",
   "mimetype": "text/x-python",
   "name": "python",
   "nbconvert_exporter": "python",
   "pygments_lexer": "ipython3",
   "version": "3.9.16"
  }
 },
 "nbformat": 4,
 "nbformat_minor": 5
}
